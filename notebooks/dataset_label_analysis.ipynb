{
       "cells": [
              {
                     "cell_type": "markdown",
                     "metadata": {},
                     "source": [
                            "# Label Analysis\n",
                            "\n",
                            "In this notebook we analyse the datsets and label distributions we get for different settings for sampling and labeling strategy."
                     ]
              },
              {
                     "cell_type": "code",
                     "execution_count": 25,
                     "metadata": {},
                     "outputs": [],
                     "source": [
                            "%reload_ext autoreload\n",
                            "%autoreload 2\n",
                            "import re\n",
                            "import shutil\n",
                            "from pathlib import Path\n",
                            "\n",
                            "import matplotlib.pyplot as plt\n",
                            "import numpy as np\n",
                            "import pandas as pd\n",
                            "\n",
                            "from datasets import HighQualityFallDataset\n",
                            "from datasets.transforms.label_strategy import HQFD_LABEL_DESCRIPTION, PriorityLabel\n",
                            "from datasets.transforms.sampling_strategy import GaussianSampling, UniformSampling"
                     ]
              },
              {
                     "cell_type": "code",
                     "execution_count": 26,
                     "metadata": {},
                     "outputs": [],
                     "source": [
                            "from mmaction.datasets.transforms import (\n",
                            "    DecordInit,\n",
                            "    DecordDecode,\n",
                            "    SampleFrames,\n",
                            "    Resize,\n",
                            "    ThreeCrop,\n",
                            "    RandomCrop,\n",
                            "    Flip,\n",
                            "    FormatShape,\n",
                            "    PackActionInputs,\n",
                            "    CenterCrop,\n",
                            ")\n",
                            "from datasets.transforms import ClipVideo\n",
                            "\n",
                            "# Train pipeline\n",
                            "train_pipeline = [\n",
                            "    DecordInit(),\n",
                            "    ClipVideo(),\n",
                            "    SampleFrames(clip_len=16, frame_interval=8, num_clips=1),\n",
                            "    DecordDecode(),\n",
                            "    Resize(scale=(-1, 224)),\n",
                            "    RandomCrop(size=224),\n",
                            "    Resize(scale=(224, 224), keep_ratio=False),\n",
                            "    Flip(flip_ratio=0.5),\n",
                            "    FormatShape(input_format=\"NCTHW\"),\n",
                            "    PackActionInputs(),\n",
                            "]\n",
                            "\n",
                            "val_pipeline = [\n",
                            "    DecordInit(),\n",
                            "    ClipVideo(),\n",
                            "    SampleFrames(clip_len=16, frame_interval=8, num_clips=1, test_mode=True),\n",
                            "    DecordDecode(),\n",
                            "    Resize(scale=(-1, 224)),\n",
                            "    CenterCrop(crop_size=224),\n",
                            "    FormatShape(input_format=\"NCTHW\"),\n",
                            "    PackActionInputs(),\n",
                            "]\n",
                            "\n",
                            "test_pipeline = [\n",
                            "    DecordInit(),\n",
                            "    ClipVideo(),\n",
                            "    SampleFrames(clip_len=16, frame_interval=8, num_clips=3, test_mode=True),\n",
                            "    DecordDecode(),\n",
                            "    Resize(scale=(-1, 224)),\n",
                            "    ThreeCrop(crop_size=224),\n",
                            "    FormatShape(input_format=\"NCTHW\"),\n",
                            "    PackActionInputs(),\n",
                            "]"
                     ]
              },
              {
                     "cell_type": "code",
                     "execution_count": 27,
                     "metadata": {},
                     "outputs": [],
                     "source": [
                            "val_ann_file = \"data/Fall_Simulation_Data/annotations_val.csv\"\n",
                            "train_ann_file = \"data/Fall_Simulation_Data/annotations_train.csv\"\n",
                            "test_ann_file = \"data/Fall_Simulation_Data/annotations_test.csv\"\n",
                            "\n",
                            "np.random.seed(42)\n",
                            "\n",
                            "gaussian_sampling = GaussianSampling(\n",
                            "    clip_len=5,\n",
                            "    n_samples_per_sec=None,\n",
                            "    fallback_sampler=UniformSampling(clip_len=5, stride=5, overlap=False),\n",
                            "    std=None,\n",
                            ")\n",
                            "label_strategy = PriorityLabel(\n",
                            "    label_description=HQFD_LABEL_DESCRIPTION,\n",
                            "    threshold=0,\n",
                            "    absolute_threshold=False,\n",
                            "    priority=[0, 1, 2],\n",
                            ")\n",
                            "\n",
                            "uniform_sampling = UniformSampling(clip_len=5, stride=0, overlap=False)\n",
                            "val_hqfd = HighQualityFallDataset(\n",
                            "    ann_file=val_ann_file,\n",
                            "    sampling_strategy=uniform_sampling,\n",
                            "    label_strategy=label_strategy,\n",
                            "    pipeline=val_pipeline,\n",
                            "    num_classes=3,\n",
                            "    test_mode=True,\n",
                            ")\n",
                            "\n",
                            "train_hqfd = HighQualityFallDataset(\n",
                            "    ann_file=train_ann_file,\n",
                            "    sampling_strategy=UniformSampling(clip_len=5),\n",
                            "    label_strategy=label_strategy,\n",
                            "    pipeline=train_pipeline,\n",
                            "    num_classes=3,\n",
                            "    test_mode=False,\n",
                            "    # drop_ratios=[0.0, 0.0, 0.30],\n",
                            ")\n",
                            "\n",
                            "test_hqfd = HighQualityFallDataset(\n",
                            "    ann_file=test_ann_file,\n",
                            "    sampling_strategy=uniform_sampling,\n",
                            "    label_strategy=label_strategy,\n",
                            "    pipeline=test_pipeline,\n",
                            "    num_classes=3,\n",
                            "    test_mode=True,\n",
                            ")"
                     ]
              },
              {
                     "cell_type": "code",
                     "execution_count": 28,
                     "metadata": {},
                     "outputs": [],
                     "source": [
                            "def analyse_dataset(ds):\n",
                            "    df_hqfd = convert_ds_to_df(ds)\n",
                            "    display(\"------- Full Dataset -------\")\n",
                            "    plot_label_dist(df_hqfd)\n",
                            "    display(\"------- Only Fall videos -------\")\n",
                            "    plot_label_dist(df_hqfd[df_hqfd[\"video_category\"] == \"Fall\"])\n",
                            "\n",
                            "\n",
                            "def convert_ds_to_df(ds: HighQualityFallDataset):\n",
                            "    np.random.seed(42)\n",
                            "    df_hqfd = pd.DataFrame(ds.load_data_list())\n",
                            "    class_names = [\"Fall\", \"Lying\", \"Other\"]\n",
                            "    df_hqfd[\"label_name\"] = df_hqfd[\"label\"].apply(lambda x: class_names[x])\n",
                            "\n",
                            "    def extract_category(filename):\n",
                            "        match = re.search(r\"(ADL|Fall)\", filename.split(\"/\")[-1])\n",
                            "        return match.group(1) if match else None\n",
                            "\n",
                            "    df_hqfd[\"video_category\"] = df_hqfd[\"filename\"].apply(extract_category)\n",
                            "\n",
                            "    return df_hqfd\n",
                            "\n",
                            "\n",
                            "def plot_label_dist(df_hqfd):\n",
                            "    display(\"---- Dataset Size ----\")\n",
                            "    display(len(df_hqfd))\n",
                            "\n",
                            "    display(\"---- Label Distribution ----\")\n",
                            "    display(df_hqfd[\"label_name\"].value_counts().sort_index() / len(df_hqfd))\n",
                            "\n",
                            "    display(\"---- Label Counts ----\")\n",
                            "    display(df_hqfd[\"label_name\"].value_counts().sort_index())\n",
                            "    df_hqfd[\"label_name\"].value_counts().sort_index().plot(kind=\"bar\")\n",
                            "    plt.show()"
                     ]
              },
              {
                     "cell_type": "markdown",
                     "metadata": {},
                     "source": [
                            "## Train DS"
                     ]
              },
              {
                     "cell_type": "code",
                     "execution_count": 5,
                     "metadata": {},
                     "outputs": [
                            {
                                   "data": {
                                          "text/plain": [
                                                 "'------- Full Dataset -------'"
                                          ]
                                   },
                                   "metadata": {},
                                   "output_type": "display_data"
                            },
                            {
                                   "data": {
                                          "text/plain": [
                                                 "'---- Dataset Size ----'"
                                          ]
                                   },
                                   "metadata": {},
                                   "output_type": "display_data"
                            },
                            {
                                   "data": {
                                          "text/plain": [
                                                 "13971"
                                          ]
                                   },
                                   "metadata": {},
                                   "output_type": "display_data"
                            },
                            {
                                   "data": {
                                          "text/plain": [
                                                 "'---- Label Distribution ----'"
                                          ]
                                   },
                                   "metadata": {},
                                   "output_type": "display_data"
                            },
                            {
                                   "data": {
                                          "text/plain": [
                                                 "label_name\n",
                                                 "Fall     0.118173\n",
                                                 "Lying    0.151958\n",
                                                 "Other    0.729869\n",
                                                 "Name: count, dtype: float64"
                                          ]
                                   },
                                   "metadata": {},
                                   "output_type": "display_data"
                            },
                            {
                                   "data": {
                                          "text/plain": [
                                                 "'---- Label Counts ----'"
                                          ]
                                   },
                                   "metadata": {},
                                   "output_type": "display_data"
                            },
                            {
                                   "data": {
                                          "text/plain": [
                                                 "label_name\n",
                                                 "Fall      1651\n",
                                                 "Lying     2123\n",
                                                 "Other    10197\n",
                                                 "Name: count, dtype: int64"
                                          ]
                                   },
                                   "metadata": {},
                                   "output_type": "display_data"
                            },
                            {
                                   "data": {
                                          "image/png": "[encoded data removed]",
                                          "text/plain": [
                                                 "<Figure size 640x480 with 1 Axes>"
                                          ]
                                   },
                                   "metadata": {},
                                   "output_type": "display_data"
                            },
                            {
                                   "data": {
                                          "text/plain": [
                                                 "'------- Only Fall videos -------'"
                                          ]
                                   },
                                   "metadata": {},
                                   "output_type": "display_data"
                            },
                            {
                                   "data": {
                                          "text/plain": [
                                                 "'---- Dataset Size ----'"
                                          ]
                                   },
                                   "metadata": {},
                                   "output_type": "display_data"
                            },
                            {
                                   "data": {
                                          "text/plain": [
                                                 "6315"
                                          ]
                                   },
                                   "metadata": {},
                                   "output_type": "display_data"
                            },
                            {
                                   "data": {
                                          "text/plain": [
                                                 "'---- Label Distribution ----'"
                                          ]
                                   },
                                   "metadata": {},
                                   "output_type": "display_data"
                            },
                            {
                                   "data": {
                                          "text/plain": [
                                                 "label_name\n",
                                                 "Fall     0.261441\n",
                                                 "Lying    0.336184\n",
                                                 "Other    0.402375\n",
                                                 "Name: count, dtype: float64"
                                          ]
                                   },
                                   "metadata": {},
                                   "output_type": "display_data"
                            },
                            {
                                   "data": {
                                          "text/plain": [
                                                 "'---- Label Counts ----'"
                                          ]
                                   },
                                   "metadata": {},
                                   "output_type": "display_data"
                            },
                            {
                                   "data": {
                                          "text/plain": [
                                                 "label_name\n",
                                                 "Fall     1651\n",
                                                 "Lying    2123\n",
                                                 "Other    2541\n",
                                                 "Name: count, dtype: int64"
                                          ]
                                   },
                                   "metadata": {},
                                   "output_type": "display_data"
                            },
                            {
                                   "data": {
                                          "image/png": "[encoded data removed]",
                                          "text/plain": [
                                                 "<Figure size 640x480 with 1 Axes>"
                                          ]
                                   },
                                   "metadata": {},
                                   "output_type": "display_data"
                            }
                     ],
                     "source": [
                            "analyse_dataset(train_hqfd)"
                     ]
              },
              {
                     "cell_type": "markdown",
                     "metadata": {},
                     "source": [
                            "## Val DS"
                     ]
              },
              {
                     "cell_type": "code",
                     "execution_count": 14,
                     "metadata": {},
                     "outputs": [
                            {
                                   "data": {
                                          "text/plain": [
                                                 "'------- Full Dataset -------'"
                                          ]
                                   },
                                   "metadata": {},
                                   "output_type": "display_data"
                            },
                            {
                                   "data": {
                                          "text/plain": [
                                                 "'---- Dataset Size ----'"
                                          ]
                                   },
                                   "metadata": {},
                                   "output_type": "display_data"
                            },
                            {
                                   "data": {
                                          "text/plain": [
                                                 "2985"
                                          ]
                                   },
                                   "metadata": {},
                                   "output_type": "display_data"
                            },
                            {
                                   "data": {
                                          "text/plain": [
                                                 "'---- Label Distribution ----'"
                                          ]
                                   },
                                   "metadata": {},
                                   "output_type": "display_data"
                            },
                            {
                                   "data": {
                                          "text/plain": [
                                                 "label_name\n",
                                                 "Fall     0.013400\n",
                                                 "Lying    0.157789\n",
                                                 "Other    0.828811\n",
                                                 "Name: count, dtype: float64"
                                          ]
                                   },
                                   "metadata": {},
                                   "output_type": "display_data"
                            },
                            {
                                   "data": {
                                          "text/plain": [
                                                 "'---- Label Counts ----'"
                                          ]
                                   },
                                   "metadata": {},
                                   "output_type": "display_data"
                            },
                            {
                                   "data": {
                                          "text/plain": [
                                                 "label_name\n",
                                                 "Fall       40\n",
                                                 "Lying     471\n",
                                                 "Other    2474\n",
                                                 "Name: count, dtype: int64"
                                          ]
                                   },
                                   "metadata": {},
                                   "output_type": "display_data"
                            },
                            {
                                   "data": {
                                          "image/png": "[encoded data removed]",
                                          "text/plain": [
                                                 "<Figure size 640x480 with 1 Axes>"
                                          ]
                                   },
                                   "metadata": {},
                                   "output_type": "display_data"
                            },
                            {
                                   "data": {
                                          "text/plain": [
                                                 "'------- Only Fall videos -------'"
                                          ]
                                   },
                                   "metadata": {},
                                   "output_type": "display_data"
                            },
                            {
                                   "data": {
                                          "text/plain": [
                                                 "'---- Dataset Size ----'"
                                          ]
                                   },
                                   "metadata": {},
                                   "output_type": "display_data"
                            },
                            {
                                   "data": {
                                          "text/plain": [
                                                 "852"
                                          ]
                                   },
                                   "metadata": {},
                                   "output_type": "display_data"
                            },
                            {
                                   "data": {
                                          "text/plain": [
                                                 "'---- Label Distribution ----'"
                                          ]
                                   },
                                   "metadata": {},
                                   "output_type": "display_data"
                            },
                            {
                                   "data": {
                                          "text/plain": [
                                                 "label_name\n",
                                                 "Fall     0.046948\n",
                                                 "Lying    0.552817\n",
                                                 "Other    0.400235\n",
                                                 "Name: count, dtype: float64"
                                          ]
                                   },
                                   "metadata": {},
                                   "output_type": "display_data"
                            },
                            {
                                   "data": {
                                          "text/plain": [
                                                 "'---- Label Counts ----'"
                                          ]
                                   },
                                   "metadata": {},
                                   "output_type": "display_data"
                            },
                            {
                                   "data": {
                                          "text/plain": [
                                                 "label_name\n",
                                                 "Fall      40\n",
                                                 "Lying    471\n",
                                                 "Other    341\n",
                                                 "Name: count, dtype: int64"
                                          ]
                                   },
                                   "metadata": {},
                                   "output_type": "display_data"
                            },
                            {
                                   "data": {
                                          "image/png": "[encoded data removed]",
                                          "text/plain": [
                                                 "<Figure size 640x480 with 1 Axes>"
                                          ]
                                   },
                                   "metadata": {},
                                   "output_type": "display_data"
                            }
                     ],
                     "source": [
                            "analyse_dataset(val_hqfd)"
                     ]
              },
              {
                     "cell_type": "markdown",
                     "metadata": {},
                     "source": [
                            "# Visualization of Samples"
                     ]
              },
              {
                     "cell_type": "code",
                     "execution_count": 29,
                     "metadata": {},
                     "outputs": [],
                     "source": [
                            "from mmaction.visualization import ActionVisualizer\n",
                            "\n",
                            "vis = ActionVisualizer()\n",
                            "\n",
                            "\n",
                            "def get_random_sample_from_class(ds: HighQualityFallDataset, label: int, n: int = 1):\n",
                            "    np.random.seed(42)\n",
                            "    dl = pd.DataFrame(ds.load_data_list())\n",
                            "    idx = dl[dl[\"label\"] == label].index.to_list()\n",
                            "    idx = np.random.choice(idx, size=n, replace=False)\n",
                            "    return idx\n",
                            "\n",
                            "\n",
                            "def render_sample_videos(path: str = \"tmp\"):\n",
                            "    from ipywidgets import Output, GridspecLayout\n",
                            "    from IPython import display\n",
                            "\n",
                            "    videos = sorted(Path(path).glob(\"*.gif\"))\n",
                            "    grid = GridspecLayout((len(videos) // 4) + 1, 4)\n",
                            "\n",
                            "    for i, video in enumerate(videos):\n",
                            "        out = Output()\n",
                            "        with out:\n",
                            "            display.display(display.Image(video))\n",
                            "        grid[i // 4, i % 4] = out\n",
                            "\n",
                            "    display.display(grid)\n",
                            "\n",
                            "\n",
                            "def generate_sample_videos(\n",
                            "    ds: HighQualityFallDataset,\n",
                            "    idx: int | list[int],\n",
                            "    out_path: str | None = None,\n",
                            "    render: bool = True,\n",
                            "    out_type: str = \"gif\",\n",
                            "):\n",
                            "    if isinstance(idx, int):\n",
                            "        idx = [idx]\n",
                            "    vis = ActionVisualizer()\n",
                            "    for i in idx:\n",
                            "        # video [B, C, T, H, W] -> [T, H, W, C]\n",
                            "\n",
                            "        video = ds[i][\"inputs\"].squeeze(0).permute(1, 2, 3, 0).numpy().astype(np.uint8)\n",
                            "        # Convert to RGB\n",
                            "        if out_type == \"gif\":\n",
                            "            video = video[..., ::-1]\n",
                            "        sample = ds[i][\"data_samples\"]\n",
                            "        # sample.set_pred_label(0)\n",
                            "        # sample.set_pred_score([0.96, 0.00, 0.04])\n",
                            "        vis.add_datasample(\n",
                            "            name=i,\n",
                            "            video=video,\n",
                            "            data_sample=sample,\n",
                            "            draw_gt=True,\n",
                            "            show_frames=True,\n",
                            "            out_type=out_type,\n",
                            "            out_path=f\"tmp/{i}.gif\" if out_path is None else out_path + f\"/{i}.gif\",\n",
                            "        )\n",
                            "    if render:\n",
                            "        render_sample_videos()\n",
                            "        if out_path is None:\n",
                            "            shutil.rmtree(\"tmp\")"
                     ]
              },
              {
                     "cell_type": "markdown",
                     "metadata": {},
                     "source": [
                            "## Validation Vis"
                     ]
              },
              {
                     "cell_type": "markdown",
                     "metadata": {},
                     "source": [
                            "### Class 0 Samples in Val"
                     ]
              },
              {
                     "cell_type": "code",
                     "execution_count": 24,
                     "metadata": {},
                     "outputs": [
                            {
                                   "data": {
                                          "application/vnd.jupyter.widget-view+json": {
                                                 "model_id": "b03d3f26d2fa47f49fa3325c97dd3511",
                                                 "version_major": 2,
                                                 "version_minor": 0
                                          },
                                          "text/plain": [
                                                 "GridspecLayout(children=(Output(layout=Layout(grid_area='widget001')), Output(layout=Layout(grid_area='widget0…"
                                          ]
                                   },
                                   "metadata": {},
                                   "output_type": "display_data"
                            }
                     ],
                     "source": [
                            "idx = get_random_sample_from_class(val_hqfd, 0, 8)\n",
                            "\n",
                            "generate_sample_videos(val_hqfd, idx)"
                     ]
              },
              {
                     "cell_type": "markdown",
                     "metadata": {},
                     "source": [
                            "### Class 1 Val Samples"
                     ]
              },
              {
                     "cell_type": "code",
                     "execution_count": 44,
                     "metadata": {},
                     "outputs": [
                            {
                                   "data": {
                                          "application/vnd.jupyter.widget-view+json": {
                                                 "model_id": "9f65ac016a0447d1b751e327a0ae8305",
                                                 "version_major": 2,
                                                 "version_minor": 0
                                          },
                                          "text/plain": [
                                                 "GridspecLayout(children=(Output(layout=Layout(grid_area='widget001')), Output(layout=Layout(grid_area='widget0…"
                                          ]
                                   },
                                   "metadata": {},
                                   "output_type": "display_data"
                            }
                     ],
                     "source": [
                            "idx = get_random_sample_from_class(val_hqfd, 1, 20)\n",
                            "generate_sample_videos(val_hqfd, idx)"
                     ]
              },
              {
                     "cell_type": "markdown",
                     "metadata": {},
                     "source": [
                            "### Class 2 Val"
                     ]
              },
              {
                     "cell_type": "code",
                     "execution_count": 45,
                     "metadata": {},
                     "outputs": [
                            {
                                   "data": {
                                          "application/vnd.jupyter.widget-view+json": {
                                                 "model_id": "cce622ef085647279b2cd1419a3168d8",
                                                 "version_major": 2,
                                                 "version_minor": 0
                                          },
                                          "text/plain": [
                                                 "GridspecLayout(children=(Output(layout=Layout(grid_area='widget001')), Output(layout=Layout(grid_area='widget0…"
                                          ]
                                   },
                                   "metadata": {},
                                   "output_type": "display_data"
                            }
                     ],
                     "source": [
                            "idx = get_random_sample_from_class(val_hqfd, 2, 20)\n",
                            "generate_sample_videos(val_hqfd, idx)"
                     ]
              },
              {
                     "cell_type": "markdown",
                     "metadata": {},
                     "source": [
                            "## Train Vis"
                     ]
              },
              {
                     "cell_type": "code",
                     "execution_count": 30,
                     "metadata": {},
                     "outputs": [
                            {
                                   "ename": "FileNotFoundError",
                                   "evalue": "[Errno 2] No such file or directory: 'data/Fall_Simulation_Data/videos/Fall55_Cam4.mp4'",
                                   "output_type": "error",
                                   "traceback": [
                                          "\u001b[0;31m---------------------------------------------------------------------------\u001b[0m",
                                          "\u001b[0;31mFileNotFoundError\u001b[0m                         Traceback (most recent call last)",
                                          "Cell \u001b[0;32mIn[30], line 2\u001b[0m\n\u001b[1;32m      1\u001b[0m idx \u001b[38;5;241m=\u001b[39m get_random_sample_from_class(train_hqfd, \u001b[38;5;241m0\u001b[39m, \u001b[38;5;241m16\u001b[39m)\n\u001b[0;32m----> 2\u001b[0m \u001b[43mgenerate_sample_videos\u001b[49m\u001b[43m(\u001b[49m\u001b[43mtrain_hqfd\u001b[49m\u001b[43m,\u001b[49m\u001b[43m \u001b[49m\u001b[43midx\u001b[49m\u001b[43m,\u001b[49m\u001b[43m \u001b[49m\u001b[43mout_path\u001b[49m\u001b[38;5;241;43m=\u001b[39;49m\u001b[38;5;124;43m\"\u001b[39;49m\u001b[38;5;124;43mpresentation_gifs_good/\u001b[39;49m\u001b[38;5;124;43m\"\u001b[39;49m\u001b[43m)\u001b[49m\n",
                                          "Cell \u001b[0;32mIn[29], line 43\u001b[0m, in \u001b[0;36mgenerate_sample_videos\u001b[0;34m(ds, idx, out_path, render, out_type)\u001b[0m\n\u001b[1;32m     39\u001b[0m vis \u001b[38;5;241m=\u001b[39m ActionVisualizer()\n\u001b[1;32m     40\u001b[0m \u001b[38;5;28;01mfor\u001b[39;00m i \u001b[38;5;129;01min\u001b[39;00m idx:\n\u001b[1;32m     41\u001b[0m     \u001b[38;5;66;03m# video [B, C, T, H, W] -> [T, H, W, C]\u001b[39;00m\n\u001b[0;32m---> 43\u001b[0m     video \u001b[38;5;241m=\u001b[39m \u001b[43mds\u001b[49m\u001b[43m[\u001b[49m\u001b[43mi\u001b[49m\u001b[43m]\u001b[49m[\u001b[38;5;124m\"\u001b[39m\u001b[38;5;124minputs\u001b[39m\u001b[38;5;124m\"\u001b[39m]\u001b[38;5;241m.\u001b[39msqueeze(\u001b[38;5;241m0\u001b[39m)\u001b[38;5;241m.\u001b[39mpermute(\u001b[38;5;241m1\u001b[39m, \u001b[38;5;241m2\u001b[39m, \u001b[38;5;241m3\u001b[39m, \u001b[38;5;241m0\u001b[39m)\u001b[38;5;241m.\u001b[39mnumpy()\u001b[38;5;241m.\u001b[39mastype(np\u001b[38;5;241m.\u001b[39muint8)\n\u001b[1;32m     44\u001b[0m     \u001b[38;5;66;03m# Convert to RGB\u001b[39;00m\n\u001b[1;32m     45\u001b[0m     \u001b[38;5;28;01mif\u001b[39;00m out_type \u001b[38;5;241m==\u001b[39m \u001b[38;5;124m\"\u001b[39m\u001b[38;5;124mgif\u001b[39m\u001b[38;5;124m\"\u001b[39m:\n",
                                          "File \u001b[0;32m/opt/homebrew/Caskroom/miniconda/base/envs/human-fall-detection/lib/python3.10/site-packages/mmengine/dataset/base_dataset.py:410\u001b[0m, in \u001b[0;36mBaseDataset.__getitem__\u001b[0;34m(self, idx)\u001b[0m\n\u001b[1;32m    407\u001b[0m     \u001b[38;5;28;01mreturn\u001b[39;00m data\n\u001b[1;32m    409\u001b[0m \u001b[38;5;28;01mfor\u001b[39;00m _ \u001b[38;5;129;01min\u001b[39;00m \u001b[38;5;28mrange\u001b[39m(\u001b[38;5;28mself\u001b[39m\u001b[38;5;241m.\u001b[39mmax_refetch \u001b[38;5;241m+\u001b[39m \u001b[38;5;241m1\u001b[39m):\n\u001b[0;32m--> 410\u001b[0m     data \u001b[38;5;241m=\u001b[39m \u001b[38;5;28;43mself\u001b[39;49m\u001b[38;5;241;43m.\u001b[39;49m\u001b[43mprepare_data\u001b[49m\u001b[43m(\u001b[49m\u001b[43midx\u001b[49m\u001b[43m)\u001b[49m\n\u001b[1;32m    411\u001b[0m     \u001b[38;5;66;03m# Broken images or random augmentations may cause the returned data\u001b[39;00m\n\u001b[1;32m    412\u001b[0m     \u001b[38;5;66;03m# to be None\u001b[39;00m\n\u001b[1;32m    413\u001b[0m     \u001b[38;5;28;01mif\u001b[39;00m data \u001b[38;5;129;01mis\u001b[39;00m \u001b[38;5;28;01mNone\u001b[39;00m:\n",
                                          "File \u001b[0;32m/opt/homebrew/Caskroom/miniconda/base/envs/human-fall-detection/lib/python3.10/site-packages/mmengine/dataset/base_dataset.py:793\u001b[0m, in \u001b[0;36mBaseDataset.prepare_data\u001b[0;34m(self, idx)\u001b[0m\n\u001b[1;32m    784\u001b[0m \u001b[38;5;250m\u001b[39m\u001b[38;5;124;03m\"\"\"Get data processed by ``self.pipeline``.\u001b[39;00m\n\u001b[1;32m    785\u001b[0m \n\u001b[1;32m    786\u001b[0m \u001b[38;5;124;03mArgs:\u001b[39;00m\n\u001b[0;32m   (...)\u001b[0m\n\u001b[1;32m    790\u001b[0m \u001b[38;5;124;03m    Any: Depends on ``self.pipeline``.\u001b[39;00m\n\u001b[1;32m    791\u001b[0m \u001b[38;5;124;03m\"\"\"\u001b[39;00m\n\u001b[1;32m    792\u001b[0m data_info \u001b[38;5;241m=\u001b[39m \u001b[38;5;28mself\u001b[39m\u001b[38;5;241m.\u001b[39mget_data_info(idx)\n\u001b[0;32m--> 793\u001b[0m \u001b[38;5;28;01mreturn\u001b[39;00m \u001b[38;5;28;43mself\u001b[39;49m\u001b[38;5;241;43m.\u001b[39;49m\u001b[43mpipeline\u001b[49m\u001b[43m(\u001b[49m\u001b[43mdata_info\u001b[49m\u001b[43m)\u001b[49m\n",
                                          "File \u001b[0;32m/opt/homebrew/Caskroom/miniconda/base/envs/human-fall-detection/lib/python3.10/site-packages/mmengine/dataset/base_dataset.py:60\u001b[0m, in \u001b[0;36mCompose.__call__\u001b[0;34m(self, data)\u001b[0m\n\u001b[1;32m     51\u001b[0m \u001b[38;5;250m\u001b[39m\u001b[38;5;124;03m\"\"\"Call function to apply transforms sequentially.\u001b[39;00m\n\u001b[1;32m     52\u001b[0m \n\u001b[1;32m     53\u001b[0m \u001b[38;5;124;03mArgs:\u001b[39;00m\n\u001b[0;32m   (...)\u001b[0m\n\u001b[1;32m     57\u001b[0m \u001b[38;5;124;03m   dict: Transformed data.\u001b[39;00m\n\u001b[1;32m     58\u001b[0m \u001b[38;5;124;03m\"\"\"\u001b[39;00m\n\u001b[1;32m     59\u001b[0m \u001b[38;5;28;01mfor\u001b[39;00m t \u001b[38;5;129;01min\u001b[39;00m \u001b[38;5;28mself\u001b[39m\u001b[38;5;241m.\u001b[39mtransforms:\n\u001b[0;32m---> 60\u001b[0m     data \u001b[38;5;241m=\u001b[39m \u001b[43mt\u001b[49m\u001b[43m(\u001b[49m\u001b[43mdata\u001b[49m\u001b[43m)\u001b[49m\n\u001b[1;32m     61\u001b[0m     \u001b[38;5;66;03m# The transform will return None when it failed to load images or\u001b[39;00m\n\u001b[1;32m     62\u001b[0m     \u001b[38;5;66;03m# cannot find suitable augmentation parameters to augment the data.\u001b[39;00m\n\u001b[1;32m     63\u001b[0m     \u001b[38;5;66;03m# Here we simply return None if the transform returns None and the\u001b[39;00m\n\u001b[1;32m     64\u001b[0m     \u001b[38;5;66;03m# dataset will handle it by randomly selecting another data sample.\u001b[39;00m\n\u001b[1;32m     65\u001b[0m     \u001b[38;5;28;01mif\u001b[39;00m data \u001b[38;5;129;01mis\u001b[39;00m \u001b[38;5;28;01mNone\u001b[39;00m:\n",
                                          "File \u001b[0;32m/opt/homebrew/Caskroom/miniconda/base/envs/human-fall-detection/lib/python3.10/site-packages/mmcv/transforms/base.py:12\u001b[0m, in \u001b[0;36mBaseTransform.__call__\u001b[0;34m(self, results)\u001b[0m\n\u001b[1;32m      9\u001b[0m \u001b[38;5;28;01mdef\u001b[39;00m \u001b[38;5;21m__call__\u001b[39m(\u001b[38;5;28mself\u001b[39m,\n\u001b[1;32m     10\u001b[0m              results: Dict) \u001b[38;5;241m-\u001b[39m\u001b[38;5;241m>\u001b[39m Optional[Union[Dict, Tuple[List, List]]]:\n\u001b[0;32m---> 12\u001b[0m     \u001b[38;5;28;01mreturn\u001b[39;00m \u001b[38;5;28;43mself\u001b[39;49m\u001b[38;5;241;43m.\u001b[39;49m\u001b[43mtransform\u001b[49m\u001b[43m(\u001b[49m\u001b[43mresults\u001b[49m\u001b[43m)\u001b[49m\n",
                                          "File \u001b[0;32m~/Library/CloudStorage/OneDrive-Personal/Documents/Arbeit und Beruf/Uppsala/Project in Data Science/human-fall-detection/mmaction2/mmaction/datasets/transforms/loading.py:1155\u001b[0m, in \u001b[0;36mDecordInit.transform\u001b[0;34m(self, results)\u001b[0m\n\u001b[1;32m   1146\u001b[0m \u001b[38;5;28;01mdef\u001b[39;00m \u001b[38;5;21mtransform\u001b[39m(\u001b[38;5;28mself\u001b[39m, results: Dict) \u001b[38;5;241m-\u001b[39m\u001b[38;5;241m>\u001b[39m Dict:\n\u001b[1;32m   1147\u001b[0m \u001b[38;5;250m    \u001b[39m\u001b[38;5;124;03m\"\"\"Perform the Decord initialization.\u001b[39;00m\n\u001b[1;32m   1148\u001b[0m \n\u001b[1;32m   1149\u001b[0m \u001b[38;5;124;03m    Args:\u001b[39;00m\n\u001b[0;32m   (...)\u001b[0m\n\u001b[1;32m   1153\u001b[0m \u001b[38;5;124;03m        dict: The result dict.\u001b[39;00m\n\u001b[1;32m   1154\u001b[0m \u001b[38;5;124;03m    \"\"\"\u001b[39;00m\n\u001b[0;32m-> 1155\u001b[0m     container \u001b[38;5;241m=\u001b[39m \u001b[38;5;28;43mself\u001b[39;49m\u001b[38;5;241;43m.\u001b[39;49m\u001b[43m_get_video_reader\u001b[49m\u001b[43m(\u001b[49m\u001b[43mresults\u001b[49m\u001b[43m[\u001b[49m\u001b[38;5;124;43m'\u001b[39;49m\u001b[38;5;124;43mfilename\u001b[39;49m\u001b[38;5;124;43m'\u001b[39;49m\u001b[43m]\u001b[49m\u001b[43m)\u001b[49m\n\u001b[1;32m   1156\u001b[0m     results[\u001b[38;5;124m'\u001b[39m\u001b[38;5;124mtotal_frames\u001b[39m\u001b[38;5;124m'\u001b[39m] \u001b[38;5;241m=\u001b[39m \u001b[38;5;28mlen\u001b[39m(container)\n\u001b[1;32m   1158\u001b[0m     results[\u001b[38;5;124m'\u001b[39m\u001b[38;5;124mvideo_reader\u001b[39m\u001b[38;5;124m'\u001b[39m] \u001b[38;5;241m=\u001b[39m container\n",
                                          "File \u001b[0;32m~/Library/CloudStorage/OneDrive-Personal/Documents/Arbeit und Beruf/Uppsala/Project in Data Science/human-fall-detection/mmaction2/mmaction/datasets/transforms/loading.py:1142\u001b[0m, in \u001b[0;36mDecordInit._get_video_reader\u001b[0;34m(self, filename)\u001b[0m\n\u001b[1;32m   1140\u001b[0m \u001b[38;5;28;01mif\u001b[39;00m \u001b[38;5;28mself\u001b[39m\u001b[38;5;241m.\u001b[39mfile_client \u001b[38;5;129;01mis\u001b[39;00m \u001b[38;5;28;01mNone\u001b[39;00m:\n\u001b[1;32m   1141\u001b[0m     \u001b[38;5;28mself\u001b[39m\u001b[38;5;241m.\u001b[39mfile_client \u001b[38;5;241m=\u001b[39m FileClient(\u001b[38;5;28mself\u001b[39m\u001b[38;5;241m.\u001b[39mio_backend, \u001b[38;5;241m*\u001b[39m\u001b[38;5;241m*\u001b[39m\u001b[38;5;28mself\u001b[39m\u001b[38;5;241m.\u001b[39mkwargs)\n\u001b[0;32m-> 1142\u001b[0m file_obj \u001b[38;5;241m=\u001b[39m io\u001b[38;5;241m.\u001b[39mBytesIO(\u001b[38;5;28;43mself\u001b[39;49m\u001b[38;5;241;43m.\u001b[39;49m\u001b[43mfile_client\u001b[49m\u001b[38;5;241;43m.\u001b[39;49m\u001b[43mget\u001b[49m\u001b[43m(\u001b[49m\u001b[43mfilename\u001b[49m\u001b[43m)\u001b[49m)\n\u001b[1;32m   1143\u001b[0m container \u001b[38;5;241m=\u001b[39m decord\u001b[38;5;241m.\u001b[39mVideoReader(file_obj, num_threads\u001b[38;5;241m=\u001b[39m\u001b[38;5;28mself\u001b[39m\u001b[38;5;241m.\u001b[39mnum_threads)\n\u001b[1;32m   1144\u001b[0m \u001b[38;5;28;01mreturn\u001b[39;00m container\n",
                                          "File \u001b[0;32m/opt/homebrew/Caskroom/miniconda/base/envs/human-fall-detection/lib/python3.10/site-packages/mmengine/fileio/file_client.py:301\u001b[0m, in \u001b[0;36mFileClient.get\u001b[0;34m(self, filepath)\u001b[0m\n\u001b[1;32m    285\u001b[0m \u001b[38;5;28;01mdef\u001b[39;00m \u001b[38;5;21mget\u001b[39m(\u001b[38;5;28mself\u001b[39m, filepath: Union[\u001b[38;5;28mstr\u001b[39m, Path]) \u001b[38;5;241m-\u001b[39m\u001b[38;5;241m>\u001b[39m Union[\u001b[38;5;28mbytes\u001b[39m, \u001b[38;5;28mmemoryview\u001b[39m]:\n\u001b[1;32m    286\u001b[0m \u001b[38;5;250m    \u001b[39m\u001b[38;5;124;03m\"\"\"Read data from a given ``filepath`` with 'rb' mode.\u001b[39;00m\n\u001b[1;32m    287\u001b[0m \n\u001b[1;32m    288\u001b[0m \u001b[38;5;124;03m    Note:\u001b[39;00m\n\u001b[0;32m   (...)\u001b[0m\n\u001b[1;32m    299\u001b[0m \u001b[38;5;124;03m        bytes object.\u001b[39;00m\n\u001b[1;32m    300\u001b[0m \u001b[38;5;124;03m    \"\"\"\u001b[39;00m\n\u001b[0;32m--> 301\u001b[0m     \u001b[38;5;28;01mreturn\u001b[39;00m \u001b[38;5;28;43mself\u001b[39;49m\u001b[38;5;241;43m.\u001b[39;49m\u001b[43mclient\u001b[49m\u001b[38;5;241;43m.\u001b[39;49m\u001b[43mget\u001b[49m\u001b[43m(\u001b[49m\u001b[43mfilepath\u001b[49m\u001b[43m)\u001b[49m\n",
                                          "File \u001b[0;32m/opt/homebrew/Caskroom/miniconda/base/envs/human-fall-detection/lib/python3.10/site-packages/mmengine/fileio/backends/local_backend.py:33\u001b[0m, in \u001b[0;36mLocalBackend.get\u001b[0;34m(self, filepath)\u001b[0m\n\u001b[1;32m     18\u001b[0m \u001b[38;5;28;01mdef\u001b[39;00m \u001b[38;5;21mget\u001b[39m(\u001b[38;5;28mself\u001b[39m, filepath: Union[\u001b[38;5;28mstr\u001b[39m, Path]) \u001b[38;5;241m-\u001b[39m\u001b[38;5;241m>\u001b[39m \u001b[38;5;28mbytes\u001b[39m:\n\u001b[1;32m     19\u001b[0m \u001b[38;5;250m    \u001b[39m\u001b[38;5;124;03m\"\"\"Read bytes from a given ``filepath`` with 'rb' mode.\u001b[39;00m\n\u001b[1;32m     20\u001b[0m \n\u001b[1;32m     21\u001b[0m \u001b[38;5;124;03m    Args:\u001b[39;00m\n\u001b[0;32m   (...)\u001b[0m\n\u001b[1;32m     31\u001b[0m \u001b[38;5;124;03m        b'hello world'\u001b[39;00m\n\u001b[1;32m     32\u001b[0m \u001b[38;5;124;03m    \"\"\"\u001b[39;00m\n\u001b[0;32m---> 33\u001b[0m     \u001b[38;5;28;01mwith\u001b[39;00m \u001b[38;5;28;43mopen\u001b[39;49m\u001b[43m(\u001b[49m\u001b[43mfilepath\u001b[49m\u001b[43m,\u001b[49m\u001b[43m \u001b[49m\u001b[38;5;124;43m'\u001b[39;49m\u001b[38;5;124;43mrb\u001b[39;49m\u001b[38;5;124;43m'\u001b[39;49m\u001b[43m)\u001b[49m \u001b[38;5;28;01mas\u001b[39;00m f:\n\u001b[1;32m     34\u001b[0m         value \u001b[38;5;241m=\u001b[39m f\u001b[38;5;241m.\u001b[39mread()\n\u001b[1;32m     35\u001b[0m     \u001b[38;5;28;01mreturn\u001b[39;00m value\n",
                                          "\u001b[0;31mFileNotFoundError\u001b[0m: [Errno 2] No such file or directory: 'data/Fall_Simulation_Data/videos/Fall55_Cam4.mp4'"
                                   ]
                            }
                     ],
                     "source": [
                            "idx = get_random_sample_from_class(train_hqfd, 0, 16)\n",
                            "generate_sample_videos(train_hqfd, idx, out_path=\"presentation_gifs_good/\")"
                     ]
              },
              {
                     "cell_type": "code",
                     "execution_count": 11,
                     "metadata": {},
                     "outputs": [
                            {
                                   "data": {
                                          "application/vnd.jupyter.widget-view+json": {
                                                 "model_id": "c0d9d8651a6e4a8295d90dd4599e9813",
                                                 "version_major": 2,
                                                 "version_minor": 0
                                          },
                                          "text/plain": [
                                                 "GridspecLayout(children=(Output(layout=Layout(grid_area='widget001')), Output(layout=Layout(grid_area='widget0…"
                                          ]
                                   },
                                   "metadata": {},
                                   "output_type": "display_data"
                            }
                     ],
                     "source": [
                            "idx = get_random_sample_from_class(train_hqfd, 1, 20)\n",
                            "generate_sample_videos(train_hqfd, idx)"
                     ]
              },
              {
                     "cell_type": "code",
                     "execution_count": 12,
                     "metadata": {},
                     "outputs": [
                            {
                                   "data": {
                                          "application/vnd.jupyter.widget-view+json": {
                                                 "model_id": "7bdcf6b03db04a5bbe6aada25554ae4f",
                                                 "version_major": 2,
                                                 "version_minor": 0
                                          },
                                          "text/plain": [
                                                 "GridspecLayout(children=(Output(layout=Layout(grid_area='widget001')), Output(layout=Layout(grid_area='widget0…"
                                          ]
                                   },
                                   "metadata": {},
                                   "output_type": "display_data"
                            }
                     ],
                     "source": [
                            "idx = get_random_sample_from_class(train_hqfd, 2, 20)\n",
                            "generate_sample_videos(train_hqfd, idx)"
                     ]
              },
              {
                     "cell_type": "markdown",
                     "metadata": {},
                     "source": [
                            "# Class weight calculation\n",
                            "\n",
                            "weight_for_class_i = total_samples / (num_samples_in_class_i * num_classes)"
                     ]
              },
              {
                     "cell_type": "code",
                     "execution_count": 6,
                     "metadata": {},
                     "outputs": [
                            {
                                   "data": {
                                          "text/plain": [
                                                 "[2.8207147183525136, 2.1935939707960435, 0.4567029518485829]"
                                          ]
                                   },
                                   "metadata": {},
                                   "output_type": "display_data"
                            }
                     ],
                     "source": [
                            "weights = []\n",
                            "num_classes = 3\n",
                            "train_dataframe = convert_ds_to_df(train_hqfd)\n",
                            "for i in range(num_classes):\n",
                            "    total_samples = len(train_dataframe)\n",
                            "    num_samples_in_class_i = len(train_dataframe[train_dataframe[\"label\"] == i])\n",
                            "    weights.append(total_samples / (num_samples_in_class_i * num_classes))\n",
                            "\n",
                            "display(weights)"
                     ]
              },
              {
                     "cell_type": "markdown",
                     "metadata": {},
                     "source": [
                            "# Other"
                     ]
              },
              {
                     "cell_type": "code",
                     "execution_count": 6,
                     "metadata": {},
                     "outputs": [],
                     "source": [
                            "dl = test_hqfd.load_data_list()\n",
                            "\n",
                            "dl = pd.DataFrame(dl)\n",
                            "\n",
                            "problem = dl.iloc[720:880]"
                     ]
              }
       ],
       "metadata": {
              "kernelspec": {
                     "display_name": "human-fall-detection",
                     "language": "python",
                     "name": "python3"
              },
              "language_info": {
                     "codemirror_mode": {
                            "name": "ipython",
                            "version": 3
                     },
                     "file_extension": ".py",
                     "mimetype": "text/x-python",
                     "name": "python",
                     "nbconvert_exporter": "python",
                     "pygments_lexer": "ipython3",
                     "version": "3.10.13"
              }
       },
       "nbformat": 4,
       "nbformat_minor": 2
}
