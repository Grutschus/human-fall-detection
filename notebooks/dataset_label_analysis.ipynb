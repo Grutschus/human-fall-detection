{
       "cells": [
              {
                     "cell_type": "markdown",
                     "metadata": {},
                     "source": [
                            "# Label Analysis\n",
                            "\n",
                            "In this notebook we analyse the datsets and label distributions we get for different settings for sampling and labeling strategy."
                     ]
              },
              {
                     "cell_type": "code",
                     "execution_count": 10,
                     "metadata": {},
                     "outputs": [],
                     "source": [
                            "%reload_ext autoreload\n",
                            "%autoreload 2\n",
                            "import re\n",
                            "import shutil\n",
                            "from pathlib import Path\n",
                            "\n",
                            "import matplotlib.pyplot as plt\n",
                            "import numpy as np\n",
                            "import pandas as pd\n",
                            "\n",
                            "from datasets import HighQualityFallDataset\n",
                            "from datasets.transforms.label_strategy import HQFD_LABEL_DESCRIPTION, PriorityLabel\n",
                            "from datasets.transforms.sampling_strategy import GaussianSampling, UniformSampling"
                     ]
              },
              {
                     "cell_type": "code",
                     "execution_count": 11,
                     "metadata": {},
                     "outputs": [],
                     "source": [
                            "from mmaction.datasets.transforms import (\n",
                            "    DecordInit,\n",
                            "    DecordDecode,\n",
                            "    SampleFrames,\n",
                            "    Resize,\n",
                            "    RandomCrop,\n",
                            "    Flip,\n",
                            "    FormatShape,\n",
                            "    PackActionInputs,\n",
                            "    CenterCrop,\n",
                            ")\n",
                            "from datasets.transforms import ClipVideo\n",
                            "\n",
                            "# Train pipeline\n",
                            "train_pipeline = [\n",
                            "    DecordInit(),\n",
                            "    ClipVideo(),\n",
                            "    SampleFrames(clip_len=16, frame_interval=8, num_clips=1),\n",
                            "    DecordDecode(),\n",
                            "    Resize(scale=(-1, 224)),\n",
                            "    RandomCrop(size=224),\n",
                            "    Resize(scale=(224, 224), keep_ratio=False),\n",
                            "    Flip(flip_ratio=0.5),\n",
                            "    FormatShape(input_format=\"NCTHW\"),\n",
                            "    PackActionInputs(),\n",
                            "]\n",
                            "\n",
                            "val_pipeline = [\n",
                            "    DecordInit(),\n",
                            "    ClipVideo(),\n",
                            "    SampleFrames(clip_len=16, frame_interval=9, num_clips=1, test_mode=True),\n",
                            "    DecordDecode(),\n",
                            "    Resize(scale=(-1, 224)),\n",
                            "    CenterCrop(crop_size=224),\n",
                            "    FormatShape(input_format=\"NCTHW\"),\n",
                            "    PackActionInputs(),\n",
                            "]"
                     ]
              },
              {
                     "cell_type": "code",
                     "execution_count": 12,
                     "metadata": {},
                     "outputs": [],
                     "source": [
                            "val_ann_file = \"data/Fall_Simulation_Data/annotations_val.csv\"\n",
                            "train_ann_file = \"data/Fall_Simulation_Data/annotations_train.csv\"\n",
                            "\n",
                            "gaussian_sampling = GaussianSampling(\n",
                            "    clip_len=5,\n",
                            "    n_samples_per_sec=None,\n",
                            "    fallback_sampler=UniformSampling(clip_len=5, stride=5, overlap=False),\n",
                            "    std=None,\n",
                            ")\n",
                            "label_strategy = PriorityLabel(\n",
                            "    label_description=HQFD_LABEL_DESCRIPTION,\n",
                            "    threshold=0,\n",
                            "    absolute_threshold=False,\n",
                            "    priority=[0, 1, 2],\n",
                            ")\n",
                            "\n",
                            "uniform_sampling = UniformSampling(clip_len=5, stride=0, overlap=False)\n",
                            "val_hqfd = HighQualityFallDataset(\n",
                            "    ann_file=val_ann_file,\n",
                            "    sampling_strategy=uniform_sampling,\n",
                            "    label_strategy=label_strategy,\n",
                            "    pipeline=val_pipeline,\n",
                            "    num_classes=3,\n",
                            "    test_mode=True,\n",
                            ")\n",
                            "\n",
                            "train_hqfd = HighQualityFallDataset(\n",
                            "    ann_file=train_ann_file,\n",
                            "    sampling_strategy=gaussian_sampling,\n",
                            "    label_strategy=label_strategy,\n",
                            "    pipeline=train_pipeline,\n",
                            "    num_classes=3,\n",
                            "    test_mode=False,\n",
                            "    drop_ratios=[0.0, 0.0, 0.30],\n",
                            ")"
                     ]
              },
              {
                     "cell_type": "code",
                     "execution_count": 13,
                     "metadata": {},
                     "outputs": [],
                     "source": [
                            "def analyse_dataset(ds):\n",
                            "    df_hqfd = convert_ds_to_df(ds)\n",
                            "    display(\"------- Full Dataset -------\")\n",
                            "    plot_label_dist(df_hqfd)\n",
                            "    display(\"------- Only Fall videos -------\")\n",
                            "    plot_label_dist(df_hqfd[df_hqfd[\"video_category\"] == \"Fall\"])\n",
                            "\n",
                            "\n",
                            "def convert_ds_to_df(ds: HighQualityFallDataset):\n",
                            "    df_hqfd = pd.DataFrame(ds.load_data_list())\n",
                            "    class_names = [\"Fall\", \"Lying\", \"Other\"]\n",
                            "    df_hqfd[\"label_name\"] = df_hqfd[\"label\"].apply(lambda x: class_names[x])\n",
                            "\n",
                            "    def extract_category(filename):\n",
                            "        match = re.search(r\"(ADL|Fall)\", filename.split(\"/\")[-1])\n",
                            "        return match.group(1) if match else None\n",
                            "\n",
                            "    df_hqfd[\"video_category\"] = df_hqfd[\"filename\"].apply(extract_category)\n",
                            "\n",
                            "    return df_hqfd\n",
                            "\n",
                            "\n",
                            "def plot_label_dist(df_hqfd):\n",
                            "    display(\"---- Dataset Size ----\")\n",
                            "    display(len(df_hqfd))\n",
                            "\n",
                            "    display(\"---- Label Distribution ----\")\n",
                            "    display(df_hqfd[\"label_name\"].value_counts().sort_index() / len(df_hqfd))\n",
                            "\n",
                            "    display(\"---- Label Counts ----\")\n",
                            "    display(df_hqfd[\"label_name\"].value_counts().sort_index())\n",
                            "    df_hqfd[\"label_name\"].value_counts().sort_index().plot(kind=\"bar\")\n",
                            "    plt.show()"
                     ]
              },
              {
                     "cell_type": "markdown",
                     "metadata": {},
                     "source": [
                            "## Train DS"
                     ]
              },
              {
                     "cell_type": "code",
                     "execution_count": 14,
                     "metadata": {},
                     "outputs": [
                            {
                                   "data": {
                                          "text/plain": [
                                                 "'------- Full Dataset -------'"
                                          ]
                                   },
                                   "metadata": {},
                                   "output_type": "display_data"
                            },
                            {
                                   "data": {
                                          "text/plain": [
                                                 "'---- Dataset Size ----'"
                                          ]
                                   },
                                   "metadata": {},
                                   "output_type": "display_data"
                            },
                            {
                                   "data": {
                                          "text/plain": [
                                                 "10969"
                                          ]
                                   },
                                   "metadata": {},
                                   "output_type": "display_data"
                            },
                            {
                                   "data": {
                                          "text/plain": [
                                                 "'---- Label Distribution ----'"
                                          ]
                                   },
                                   "metadata": {},
                                   "output_type": "display_data"
                            },
                            {
                                   "data": {
                                          "text/plain": [
                                                 "label_name\n",
                                                 "Fall     0.149968\n",
                                                 "Lying    0.198104\n",
                                                 "Other    0.651928\n",
                                                 "Name: count, dtype: float64"
                                          ]
                                   },
                                   "metadata": {},
                                   "output_type": "display_data"
                            },
                            {
                                   "data": {
                                          "text/plain": [
                                                 "'---- Label Counts ----'"
                                          ]
                                   },
                                   "metadata": {},
                                   "output_type": "display_data"
                            },
                            {
                                   "data": {
                                          "text/plain": [
                                                 "label_name\n",
                                                 "Fall     1645\n",
                                                 "Lying    2173\n",
                                                 "Other    7151\n",
                                                 "Name: count, dtype: int64"
                                          ]
                                   },
                                   "metadata": {},
                                   "output_type": "display_data"
                            },
                            {
                                   "data": {
                                          "image/png": "[encoded data removed]",
                                          "text/plain": [
                                                 "<Figure size 640x480 with 1 Axes>"
                                          ]
                                   },
                                   "metadata": {},
                                   "output_type": "display_data"
                            },
                            {
                                   "data": {
                                          "text/plain": [
                                                 "'------- Only Fall videos -------'"
                                          ]
                                   },
                                   "metadata": {},
                                   "output_type": "display_data"
                            },
                            {
                                   "data": {
                                          "text/plain": [
                                                 "'---- Dataset Size ----'"
                                          ]
                                   },
                                   "metadata": {},
                                   "output_type": "display_data"
                            },
                            {
                                   "data": {
                                          "text/plain": [
                                                 "5539"
                                          ]
                                   },
                                   "metadata": {},
                                   "output_type": "display_data"
                            },
                            {
                                   "data": {
                                          "text/plain": [
                                                 "'---- Label Distribution ----'"
                                          ]
                                   },
                                   "metadata": {},
                                   "output_type": "display_data"
                            },
                            {
                                   "data": {
                                          "text/plain": [
                                                 "label_name\n",
                                                 "Fall     0.296985\n",
                                                 "Lying    0.392309\n",
                                                 "Other    0.310706\n",
                                                 "Name: count, dtype: float64"
                                          ]
                                   },
                                   "metadata": {},
                                   "output_type": "display_data"
                            },
                            {
                                   "data": {
                                          "text/plain": [
                                                 "'---- Label Counts ----'"
                                          ]
                                   },
                                   "metadata": {},
                                   "output_type": "display_data"
                            },
                            {
                                   "data": {
                                          "text/plain": [
                                                 "label_name\n",
                                                 "Fall     1645\n",
                                                 "Lying    2173\n",
                                                 "Other    1721\n",
                                                 "Name: count, dtype: int64"
                                          ]
                                   },
                                   "metadata": {},
                                   "output_type": "display_data"
                            },
                            {
                                   "data": {
                                          "image/png": "[encoded data removed]",
                                          "text/plain": [
                                                 "<Figure size 640x480 with 1 Axes>"
                                          ]
                                   },
                                   "metadata": {},
                                   "output_type": "display_data"
                            }
                     ],
                     "source": [
                            "analyse_dataset(train_hqfd)"
                     ]
              },
              {
                     "cell_type": "markdown",
                     "metadata": {},
                     "source": [
                            "## Val DS"
                     ]
              },
              {
                     "cell_type": "code",
                     "execution_count": 15,
                     "metadata": {},
                     "outputs": [
                            {
                                   "data": {
                                          "text/plain": [
                                                 "'------- Full Dataset -------'"
                                          ]
                                   },
                                   "metadata": {},
                                   "output_type": "display_data"
                            },
                            {
                                   "data": {
                                          "text/plain": [
                                                 "'---- Dataset Size ----'"
                                          ]
                                   },
                                   "metadata": {},
                                   "output_type": "display_data"
                            },
                            {
                                   "data": {
                                          "text/plain": [
                                                 "2985"
                                          ]
                                   },
                                   "metadata": {},
                                   "output_type": "display_data"
                            },
                            {
                                   "data": {
                                          "text/plain": [
                                                 "'---- Label Distribution ----'"
                                          ]
                                   },
                                   "metadata": {},
                                   "output_type": "display_data"
                            },
                            {
                                   "data": {
                                          "text/plain": [
                                                 "label_name\n",
                                                 "Fall     0.013400\n",
                                                 "Lying    0.157789\n",
                                                 "Other    0.828811\n",
                                                 "Name: count, dtype: float64"
                                          ]
                                   },
                                   "metadata": {},
                                   "output_type": "display_data"
                            },
                            {
                                   "data": {
                                          "text/plain": [
                                                 "'---- Label Counts ----'"
                                          ]
                                   },
                                   "metadata": {},
                                   "output_type": "display_data"
                            },
                            {
                                   "data": {
                                          "text/plain": [
                                                 "label_name\n",
                                                 "Fall       40\n",
                                                 "Lying     471\n",
                                                 "Other    2474\n",
                                                 "Name: count, dtype: int64"
                                          ]
                                   },
                                   "metadata": {},
                                   "output_type": "display_data"
                            },
                            {
                                   "data": {
                                          "image/png": "[encoded data removed]",
                                          "text/plain": [
                                                 "<Figure size 640x480 with 1 Axes>"
                                          ]
                                   },
                                   "metadata": {},
                                   "output_type": "display_data"
                            },
                            {
                                   "data": {
                                          "text/plain": [
                                                 "'------- Only Fall videos -------'"
                                          ]
                                   },
                                   "metadata": {},
                                   "output_type": "display_data"
                            },
                            {
                                   "data": {
                                          "text/plain": [
                                                 "'---- Dataset Size ----'"
                                          ]
                                   },
                                   "metadata": {},
                                   "output_type": "display_data"
                            },
                            {
                                   "data": {
                                          "text/plain": [
                                                 "852"
                                          ]
                                   },
                                   "metadata": {},
                                   "output_type": "display_data"
                            },
                            {
                                   "data": {
                                          "text/plain": [
                                                 "'---- Label Distribution ----'"
                                          ]
                                   },
                                   "metadata": {},
                                   "output_type": "display_data"
                            },
                            {
                                   "data": {
                                          "text/plain": [
                                                 "label_name\n",
                                                 "Fall     0.046948\n",
                                                 "Lying    0.552817\n",
                                                 "Other    0.400235\n",
                                                 "Name: count, dtype: float64"
                                          ]
                                   },
                                   "metadata": {},
                                   "output_type": "display_data"
                            },
                            {
                                   "data": {
                                          "text/plain": [
                                                 "'---- Label Counts ----'"
                                          ]
                                   },
                                   "metadata": {},
                                   "output_type": "display_data"
                            },
                            {
                                   "data": {
                                          "text/plain": [
                                                 "label_name\n",
                                                 "Fall      40\n",
                                                 "Lying    471\n",
                                                 "Other    341\n",
                                                 "Name: count, dtype: int64"
                                          ]
                                   },
                                   "metadata": {},
                                   "output_type": "display_data"
                            },
                            {
                                   "data": {
                                          "image/png": "[encoded data removed]",
                                          "text/plain": [
                                                 "<Figure size 640x480 with 1 Axes>"
                                          ]
                                   },
                                   "metadata": {},
                                   "output_type": "display_data"
                            }
                     ],
                     "source": [
                            "analyse_dataset(val_hqfd)"
                     ]
              },
              {
                     "cell_type": "markdown",
                     "metadata": {},
                     "source": [
                            "# Visualization of Samples"
                     ]
              },
              {
                     "cell_type": "code",
                     "execution_count": 16,
                     "metadata": {},
                     "outputs": [],
                     "source": [
                            "from mmaction.visualization import ActionVisualizer\n",
                            "\n",
                            "vis = ActionVisualizer()\n",
                            "\n",
                            "\n",
                            "def get_random_sample_from_class(ds: HighQualityFallDataset, label: int, n: int = 1):\n",
                            "    dl = pd.DataFrame(val_hqfd.load_data_list())\n",
                            "    idx = dl[dl[\"label\"] == label].index.to_list()\n",
                            "    idx = np.random.choice(idx, size=n, replace=False)\n",
                            "    return idx\n",
                            "\n",
                            "\n",
                            "def render_sample_videos(path: str = \"tmp\"):\n",
                            "    from ipywidgets import Output, GridspecLayout\n",
                            "    from IPython import display\n",
                            "\n",
                            "    videos = sorted(Path(path).glob(\"*.gif\"))\n",
                            "    grid = GridspecLayout((len(videos) // 4) + 1, 4)\n",
                            "\n",
                            "    for i, video in enumerate(videos):\n",
                            "        out = Output()\n",
                            "        with out:\n",
                            "            display.display(display.Image(video))\n",
                            "        grid[i // 4, i % 4] = out\n",
                            "\n",
                            "    display.display(grid)\n",
                            "\n",
                            "\n",
                            "def generate_sample_videos(\n",
                            "    ds: HighQualityFallDataset,\n",
                            "    idx: int | list[int],\n",
                            "    out_path: str | None = None,\n",
                            "    render: bool = True,\n",
                            "):\n",
                            "    if isinstance(idx, int):\n",
                            "        idx = [idx]\n",
                            "    vis = ActionVisualizer()\n",
                            "    for i in idx:\n",
                            "        # video [B, C, T, H, W] -> [T, H, W, C]\n",
                            "        video = ds[i][\"inputs\"].squeeze(0).permute(1, 2, 3, 0).numpy().astype(np.uint8)\n",
                            "        # Convert to RGB\n",
                            "        video = video[..., ::-1]\n",
                            "        vis.add_datasample(\n",
                            "            name=i,\n",
                            "            video=video,\n",
                            "            data_sample=ds[i][\"data_samples\"],\n",
                            "            draw_gt=True,\n",
                            "            show_frames=True,\n",
                            "            out_type=\"gif\",\n",
                            "            out_path=f\"tmp/{i}.gif\" if out_path is None else out_path + f\"/{i}.gif\",\n",
                            "        )\n",
                            "    if render:\n",
                            "        render_sample_videos()\n",
                            "        shutil.rmtree(\"tmp\")"
                     ]
              },
              {
                     "cell_type": "markdown",
                     "metadata": {},
                     "source": [
                            "### Class 0 Samples in Val"
                     ]
              },
              {
                     "cell_type": "code",
                     "execution_count": 17,
                     "metadata": {},
                     "outputs": [
                            {
                                   "data": {
                                          "application/vnd.jupyter.widget-view+json": {
                                                 "model_id": "86dd9be0cfd948a0ad4b5a04dd2446e5",
                                                 "version_major": 2,
                                                 "version_minor": 0
                                          },
                                          "text/plain": [
                                                 "GridspecLayout(children=(Output(layout=Layout(grid_area='widget001')), Output(layout=Layout(grid_area='widget0…"
                                          ]
                                   },
                                   "metadata": {},
                                   "output_type": "display_data"
                            }
                     ],
                     "source": [
                            "idx = get_random_sample_from_class(val_hqfd, 0, 20)\n",
                            "generate_sample_videos(val_hqfd, idx)"
                     ]
              },
              {
                     "cell_type": "markdown",
                     "metadata": {},
                     "source": [
                            "### Class 1 Val Samples"
                     ]
              },
              {
                     "cell_type": "code",
                     "execution_count": 20,
                     "metadata": {},
                     "outputs": [
                            {
                                   "data": {
                                          "application/vnd.jupyter.widget-view+json": {
                                                 "model_id": "f2dabc415963455bb02ba77e928b37aa",
                                                 "version_major": 2,
                                                 "version_minor": 0
                                          },
                                          "text/plain": [
                                                 "GridspecLayout(children=(Output(layout=Layout(grid_area='widget001')), Output(layout=Layout(grid_area='widget0…"
                                          ]
                                   },
                                   "metadata": {},
                                   "output_type": "display_data"
                            }
                     ],
                     "source": [
                            "idx = get_random_sample_from_class(val_hqfd, 1, 20)\n",
                            "generate_sample_videos(val_hqfd, idx)"
                     ]
              },
              {
                     "cell_type": "markdown",
                     "metadata": {},
                     "source": [
                            "### Class 2 Val"
                     ]
              },
              {
                     "cell_type": "code",
                     "execution_count": 21,
                     "metadata": {},
                     "outputs": [
                            {
                                   "data": {
                                          "application/vnd.jupyter.widget-view+json": {
                                                 "model_id": "ba16baab0b4a4e678010719099954a9c",
                                                 "version_major": 2,
                                                 "version_minor": 0
                                          },
                                          "text/plain": [
                                                 "GridspecLayout(children=(Output(layout=Layout(grid_area='widget001')), Output(layout=Layout(grid_area='widget0…"
                                          ]
                                   },
                                   "metadata": {},
                                   "output_type": "display_data"
                            }
                     ],
                     "source": [
                            "idx = get_random_sample_from_class(val_hqfd, 2, 20)\n",
                            "generate_sample_videos(val_hqfd, idx)"
                     ]
              },
              {
                     "cell_type": "markdown",
                     "metadata": {},
                     "source": [
                            "# Class weight calculation\n",
                            "\n",
                            "weight_for_class_i = total_samples / (num_samples_in_class_i * num_classes)"
                     ]
              },
              {
                     "cell_type": "code",
                     "execution_count": 18,
                     "metadata": {},
                     "outputs": [
                            {
                                   "ename": "NameError",
                                   "evalue": "name 'df_hqfd' is not defined",
                                   "output_type": "error",
                                   "traceback": [
                                          "\u001b[0;31m---------------------------------------------------------------------------\u001b[0m",
                                          "\u001b[0;31mNameError\u001b[0m                                 Traceback (most recent call last)",
                                          "\u001b[1;32m/Users/tillgrutschus/Library/CloudStorage/OneDrive-Personal/Documents/Arbeit und Beruf/Uppsala/Project in Data Science/human-fall-detection/notebooks/dataset_label_analysis.ipynb Cell 15\u001b[0m line \u001b[0;36m4\n\u001b[1;32m      <a href='vscode-notebook-cell:/Users/tillgrutschus/Library/CloudStorage/OneDrive-Personal/Documents/Arbeit%20und%20Beruf/Uppsala/Project%20in%20Data%20Science/human-fall-detection/notebooks/dataset_label_analysis.ipynb#X20sZmlsZQ%3D%3D?line=1'>2</a>\u001b[0m num_classes \u001b[39m=\u001b[39m \u001b[39m3\u001b[39m\n\u001b[1;32m      <a href='vscode-notebook-cell:/Users/tillgrutschus/Library/CloudStorage/OneDrive-Personal/Documents/Arbeit%20und%20Beruf/Uppsala/Project%20in%20Data%20Science/human-fall-detection/notebooks/dataset_label_analysis.ipynb#X20sZmlsZQ%3D%3D?line=2'>3</a>\u001b[0m \u001b[39mfor\u001b[39;00m i \u001b[39min\u001b[39;00m \u001b[39mrange\u001b[39m(num_classes):\n\u001b[0;32m----> <a href='vscode-notebook-cell:/Users/tillgrutschus/Library/CloudStorage/OneDrive-Personal/Documents/Arbeit%20und%20Beruf/Uppsala/Project%20in%20Data%20Science/human-fall-detection/notebooks/dataset_label_analysis.ipynb#X20sZmlsZQ%3D%3D?line=3'>4</a>\u001b[0m     total_samples \u001b[39m=\u001b[39m \u001b[39mlen\u001b[39m(df_hqfd)\n\u001b[1;32m      <a href='vscode-notebook-cell:/Users/tillgrutschus/Library/CloudStorage/OneDrive-Personal/Documents/Arbeit%20und%20Beruf/Uppsala/Project%20in%20Data%20Science/human-fall-detection/notebooks/dataset_label_analysis.ipynb#X20sZmlsZQ%3D%3D?line=4'>5</a>\u001b[0m     num_samples_in_class_i \u001b[39m=\u001b[39m \u001b[39mlen\u001b[39m(df_hqfd[df_hqfd[\u001b[39m\"\u001b[39m\u001b[39mlabel\u001b[39m\u001b[39m\"\u001b[39m] \u001b[39m==\u001b[39m i])\n\u001b[1;32m      <a href='vscode-notebook-cell:/Users/tillgrutschus/Library/CloudStorage/OneDrive-Personal/Documents/Arbeit%20und%20Beruf/Uppsala/Project%20in%20Data%20Science/human-fall-detection/notebooks/dataset_label_analysis.ipynb#X20sZmlsZQ%3D%3D?line=5'>6</a>\u001b[0m     weights\u001b[39m.\u001b[39mappend(total_samples \u001b[39m/\u001b[39m num_samples_in_class_i \u001b[39m*\u001b[39m num_classes)\n",
                                          "\u001b[0;31mNameError\u001b[0m: name 'df_hqfd' is not defined"
                                   ]
                            }
                     ],
                     "source": [
                            "weights = []\n",
                            "num_classes = 3\n",
                            "for i in range(num_classes):\n",
                            "    total_samples = len(df_hqfd)\n",
                            "    num_samples_in_class_i = len(df_hqfd[df_hqfd[\"label\"] == i])\n",
                            "    weights.append(total_samples / num_samples_in_class_i * num_classes)\n",
                            "\n",
                            "display(weights)"
                     ]
              }
       ],
       "metadata": {
              "kernelspec": {
                     "display_name": "human-fall-detection",
                     "language": "python",
                     "name": "python3"
              },
              "language_info": {
                     "codemirror_mode": {
                            "name": "ipython",
                            "version": 3
                     },
                     "file_extension": ".py",
                     "mimetype": "text/x-python",
                     "name": "python",
                     "nbconvert_exporter": "python",
                     "pygments_lexer": "ipython3",
                     "version": "3.10.13"
              }
       },
       "nbformat": 4,
       "nbformat_minor": 2
}
