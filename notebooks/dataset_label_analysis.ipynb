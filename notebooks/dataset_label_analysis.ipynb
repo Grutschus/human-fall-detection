{
 "cells": [
  {
   "cell_type": "markdown",
   "metadata": {},
   "source": [
    "# Label Analysis\n",
    "\n",
    "In this notebook we analyse the datsets and label distributions we get for different settings for sampling and labeling strategy."
   ]
  },
  {
   "cell_type": "code",
   "execution_count": 6,
   "metadata": {},
   "outputs": [],
   "source": [
    "%reload_ext autoreload\n",
    "%autoreload 2\n",
    "import re\n",
    "\n",
    "import matplotlib.pyplot as plt\n",
    "import numpy as np\n",
    "import pandas as pd\n",
    "\n",
    "from datasets import HighQualityFallDataset\n",
    "from datasets.transforms.label_strategy import HQFD_LABEL_DESCRIPTION, PriorityLabel\n",
    "from datasets.transforms.sampling_strategy import GaussianSampling, UniformSampling"
   ]
  },
  {
   "cell_type": "code",
   "execution_count": 7,
   "metadata": {},
   "outputs": [
    {
     "data": {
      "text/html": [
       "<div>\n",
       "<style scoped>\n",
       "    .dataframe tbody tr th:only-of-type {\n",
       "        vertical-align: middle;\n",
       "    }\n",
       "\n",
       "    .dataframe tbody tr th {\n",
       "        vertical-align: top;\n",
       "    }\n",
       "\n",
       "    .dataframe thead th {\n",
       "        text-align: right;\n",
       "    }\n",
       "</style>\n",
       "<table border=\"1\" class=\"dataframe\">\n",
       "  <thead>\n",
       "    <tr style=\"text-align: right;\">\n",
       "      <th></th>\n",
       "      <th>filename</th>\n",
       "      <th>label</th>\n",
       "      <th>interval</th>\n",
       "      <th>sample_idx</th>\n",
       "      <th>modality</th>\n",
       "      <th>start_index</th>\n",
       "      <th>label_name</th>\n",
       "      <th>video_category</th>\n",
       "    </tr>\n",
       "  </thead>\n",
       "  <tbody>\n",
       "    <tr>\n",
       "      <th>0</th>\n",
       "      <td>data/Fall_Simulation_Data/videos/Fall7_Cam4.mp4</td>\n",
       "      <td>0</td>\n",
       "      <td>(19.69, 29.69)</td>\n",
       "      <td>0</td>\n",
       "      <td>RGB</td>\n",
       "      <td>0</td>\n",
       "      <td>Fall</td>\n",
       "      <td>Fall</td>\n",
       "    </tr>\n",
       "    <tr>\n",
       "      <th>1</th>\n",
       "      <td>data/Fall_Simulation_Data/videos/Fall7_Cam4.mp4</td>\n",
       "      <td>1</td>\n",
       "      <td>(36.31, 46.31)</td>\n",
       "      <td>1</td>\n",
       "      <td>RGB</td>\n",
       "      <td>0</td>\n",
       "      <td>Lying</td>\n",
       "      <td>Fall</td>\n",
       "    </tr>\n",
       "    <tr>\n",
       "      <th>2</th>\n",
       "      <td>data/Fall_Simulation_Data/videos/Fall7_Cam4.mp4</td>\n",
       "      <td>2</td>\n",
       "      <td>(12.75, 22.75)</td>\n",
       "      <td>2</td>\n",
       "      <td>RGB</td>\n",
       "      <td>0</td>\n",
       "      <td>Other</td>\n",
       "      <td>Fall</td>\n",
       "    </tr>\n",
       "    <tr>\n",
       "      <th>3</th>\n",
       "      <td>data/Fall_Simulation_Data/videos/Fall7_Cam4.mp4</td>\n",
       "      <td>1</td>\n",
       "      <td>(39.11, 49.11)</td>\n",
       "      <td>3</td>\n",
       "      <td>RGB</td>\n",
       "      <td>0</td>\n",
       "      <td>Lying</td>\n",
       "      <td>Fall</td>\n",
       "    </tr>\n",
       "    <tr>\n",
       "      <th>4</th>\n",
       "      <td>data/Fall_Simulation_Data/videos/Fall7_Cam4.mp4</td>\n",
       "      <td>2</td>\n",
       "      <td>(13.149999999999999, 23.15)</td>\n",
       "      <td>4</td>\n",
       "      <td>RGB</td>\n",
       "      <td>0</td>\n",
       "      <td>Other</td>\n",
       "      <td>Fall</td>\n",
       "    </tr>\n",
       "  </tbody>\n",
       "</table>\n",
       "</div>"
      ],
      "text/plain": [
       "                                          filename  label  \\\n",
       "0  data/Fall_Simulation_Data/videos/Fall7_Cam4.mp4      0   \n",
       "1  data/Fall_Simulation_Data/videos/Fall7_Cam4.mp4      1   \n",
       "2  data/Fall_Simulation_Data/videos/Fall7_Cam4.mp4      2   \n",
       "3  data/Fall_Simulation_Data/videos/Fall7_Cam4.mp4      1   \n",
       "4  data/Fall_Simulation_Data/videos/Fall7_Cam4.mp4      2   \n",
       "\n",
       "                      interval  sample_idx modality  start_index label_name  \\\n",
       "0               (19.69, 29.69)           0      RGB            0       Fall   \n",
       "1               (36.31, 46.31)           1      RGB            0      Lying   \n",
       "2               (12.75, 22.75)           2      RGB            0      Other   \n",
       "3               (39.11, 49.11)           3      RGB            0      Lying   \n",
       "4  (13.149999999999999, 23.15)           4      RGB            0      Other   \n",
       "\n",
       "  video_category  \n",
       "0           Fall  \n",
       "1           Fall  \n",
       "2           Fall  \n",
       "3           Fall  \n",
       "4           Fall  "
      ]
     },
     "execution_count": 7,
     "metadata": {},
     "output_type": "execute_result"
    }
   ],
   "source": [
    "ANN_FILE = \"data/Fall_Simulation_Data/annotations_train.csv\"\n",
    "\n",
    "uniform_sampling = UniformSampling(clip_len=10, stride=0, overlap=False)\n",
    "gaussian_sampling = GaussianSampling(\n",
    "    clip_len=10, n_samples_per_sec=None, fallback_sampler=None, std=None\n",
    ")\n",
    "label_strategy = PriorityLabel(\n",
    "    label_description=HQFD_LABEL_DESCRIPTION,\n",
    "    threshold=0.0,\n",
    "    absolute_threshold=False,\n",
    "    priority=[0, 1, 2],\n",
    ")\n",
    "\n",
    "hqfd = HighQualityFallDataset(\n",
    "    ann_file=ANN_FILE,\n",
    "    sampling_strategy=gaussian_sampling,\n",
    "    label_strategy=label_strategy,\n",
    "    pipeline=[],\n",
    "    num_classes=3,\n",
    "    test_mode=True,\n",
    ")\n",
    "\n",
    "df_hqfd = pd.DataFrame(list(hqfd))\n",
    "class_names = [\"Fall\", \"Lying\", \"Other\"]\n",
    "df_hqfd[\"label_name\"] = df_hqfd[\"label\"].apply(lambda x: class_names[x])\n",
    "\n",
    "\n",
    "def extract_category(filename):\n",
    "    match = re.search(r\"(ADL|Fall)\", filename.split(\"/\")[-1])\n",
    "    return match.group(1) if match else None\n",
    "\n",
    "\n",
    "df_hqfd[\"video_category\"] = df_hqfd[\"filename\"].apply(extract_category)\n",
    "\n",
    "df_hqfd.head()"
   ]
  },
  {
   "cell_type": "code",
   "execution_count": 8,
   "metadata": {},
   "outputs": [],
   "source": [
    "def plot_label_dist(df_hqfd):\n",
    "    display(\"---- Label Distribution ----\")\n",
    "    display(df_hqfd[\"label_name\"].value_counts().sort_index() / len(df_hqfd))\n",
    "\n",
    "    display(\"---- Label Counts ----\")\n",
    "    display(df_hqfd[\"label_name\"].value_counts().sort_index())\n",
    "    df_hqfd[\"label_name\"].value_counts().sort_index().plot(kind=\"bar\")\n",
    "    plt.show()"
   ]
  },
  {
   "cell_type": "code",
   "execution_count": 9,
   "metadata": {},
   "outputs": [
    {
     "data": {
      "text/plain": [
       "'---- Label Distribution ----'"
      ]
     },
     "metadata": {},
     "output_type": "display_data"
    },
    {
     "data": {
      "text/plain": [
       "label_name\n",
       "Fall     0.113712\n",
       "Lying    0.079153\n",
       "Other    0.807135\n",
       "Name: count, dtype: float64"
      ]
     },
     "metadata": {},
     "output_type": "display_data"
    },
    {
     "data": {
      "text/plain": [
       "'---- Label Counts ----'"
      ]
     },
     "metadata": {},
     "output_type": "display_data"
    },
    {
     "data": {
      "text/plain": [
       "label_name\n",
       "Fall     1224\n",
       "Lying     852\n",
       "Other    8688\n",
       "Name: count, dtype: int64"
      ]
     },
     "metadata": {},
     "output_type": "display_data"
    },
    {
     "data": {
      "image/png": "[encoded data removed]",
      "text/plain": [
       "<Figure size 640x480 with 1 Axes>"
      ]
     },
     "metadata": {},
     "output_type": "display_data"
    }
   ],
   "source": [
    "plot_label_dist(df_hqfd)"
   ]
  },
  {
   "cell_type": "code",
   "execution_count": 10,
   "metadata": {},
   "outputs": [
    {
     "data": {
      "text/plain": [
       "'---- Label Distribution ----'"
      ]
     },
     "metadata": {},
     "output_type": "display_data"
    },
    {
     "data": {
      "text/plain": [
       "label_name\n",
       "Fall     0.391179\n",
       "Lying    0.272291\n",
       "Other    0.336529\n",
       "Name: count, dtype: float64"
      ]
     },
     "metadata": {},
     "output_type": "display_data"
    },
    {
     "data": {
      "text/plain": [
       "'---- Label Counts ----'"
      ]
     },
     "metadata": {},
     "output_type": "display_data"
    },
    {
     "data": {
      "text/plain": [
       "label_name\n",
       "Fall     1224\n",
       "Lying     852\n",
       "Other    1053\n",
       "Name: count, dtype: int64"
      ]
     },
     "metadata": {},
     "output_type": "display_data"
    },
    {
     "data": {
      "image/png": "[encoded data removed]",
      "text/plain": [
       "<Figure size 640x480 with 1 Axes>"
      ]
     },
     "metadata": {},
     "output_type": "display_data"
    }
   ],
   "source": [
    "plot_label_dist(df_hqfd[df_hqfd[\"video_category\"] == \"Fall\"])"
   ]
  },
  {
   "cell_type": "markdown",
   "metadata": {},
   "source": [
    "# Class weight calculation\n",
    "\n",
    "weight_for_class_i = total_samples / (num_samples_in_class_i * num_classes)"
   ]
  },
  {
   "cell_type": "code",
   "execution_count": 13,
   "metadata": {},
   "outputs": [
    {
     "data": {
      "text/plain": [
       "[26.38235294117647, 37.901408450704224, 3.7168508287292816]"
      ]
     },
     "metadata": {},
     "output_type": "display_data"
    }
   ],
   "source": [
    "weights = []\n",
    "num_classes = 3\n",
    "for i in range(num_classes):\n",
    "    total_samples = len(df_hqfd)\n",
    "    num_samples_in_class_i = len(df_hqfd[df_hqfd[\"label\"] == i])\n",
    "    weights.append(total_samples / num_samples_in_class_i * num_classes)\n",
    "\n",
    "display(weights)"
   ]
  }
 ],
 "metadata": {
  "kernelspec": {
   "display_name": "human-fall-detection",
   "language": "python",
   "name": "python3"
  },
  "language_info": {
   "codemirror_mode": {
    "name": "ipython",
    "version": 3
   },
   "file_extension": ".py",
   "mimetype": "text/x-python",
   "name": "python",
   "nbconvert_exporter": "python",
   "pygments_lexer": "ipython3",
   "version": "3.10.13"
  }
 },
 "nbformat": 4,
 "nbformat_minor": 2
}
