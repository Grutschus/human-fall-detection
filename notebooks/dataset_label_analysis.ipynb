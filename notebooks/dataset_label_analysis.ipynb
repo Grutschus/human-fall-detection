{
 "cells": [
  {
   "cell_type": "markdown",
   "metadata": {},
   "source": [
    "# Label Analysis\n",
    "\n",
    "In this notebook we analyse the datsets and label distributions we get for different settings for sampling and labeling strategy."
   ]
  },
  {
   "cell_type": "code",
   "execution_count": 1,
   "metadata": {},
   "outputs": [],
   "source": [
    "%reload_ext autoreload\n",
    "%autoreload 2\n",
    "import numpy as np\n",
    "import matplotlib.pyplot as plt\n",
    "import pandas as pd\n",
    "\n",
    "from datasets import HighQualityFallDataset\n",
    "from datasets.transforms.label_strategy import PriorityLabel, HQFD_LABEL_DESCRIPTION\n",
    "from datasets.transforms.sampling_strategy import UniformSampling, GaussianSampling"
   ]
  },
  {
   "cell_type": "code",
   "execution_count": 4,
   "metadata": {},
   "outputs": [
    {
     "data": {
      "text/html": [
       "<div>\n",
       "<style scoped>\n",
       "    .dataframe tbody tr th:only-of-type {\n",
       "        vertical-align: middle;\n",
       "    }\n",
       "\n",
       "    .dataframe tbody tr th {\n",
       "        vertical-align: top;\n",
       "    }\n",
       "\n",
       "    .dataframe thead th {\n",
       "        text-align: right;\n",
       "    }\n",
       "</style>\n",
       "<table border=\"1\" class=\"dataframe\">\n",
       "  <thead>\n",
       "    <tr style=\"text-align: right;\">\n",
       "      <th></th>\n",
       "      <th>filename</th>\n",
       "      <th>label</th>\n",
       "      <th>interval</th>\n",
       "      <th>sample_idx</th>\n",
       "      <th>modality</th>\n",
       "      <th>start_index</th>\n",
       "      <th>label_name</th>\n",
       "    </tr>\n",
       "  </thead>\n",
       "  <tbody>\n",
       "    <tr>\n",
       "      <th>0</th>\n",
       "      <td>data/Fall_Simulation_Data/videos/ADL17_Cam1.avi</td>\n",
       "      <td>2</td>\n",
       "      <td>(0.0, 10.0)</td>\n",
       "      <td>0</td>\n",
       "      <td>RGB</td>\n",
       "      <td>0</td>\n",
       "      <td>Other</td>\n",
       "    </tr>\n",
       "    <tr>\n",
       "      <th>1</th>\n",
       "      <td>data/Fall_Simulation_Data/videos/ADL17_Cam1.avi</td>\n",
       "      <td>2</td>\n",
       "      <td>(10.0, 20.0)</td>\n",
       "      <td>1</td>\n",
       "      <td>RGB</td>\n",
       "      <td>0</td>\n",
       "      <td>Other</td>\n",
       "    </tr>\n",
       "    <tr>\n",
       "      <th>2</th>\n",
       "      <td>data/Fall_Simulation_Data/videos/ADL17_Cam1.avi</td>\n",
       "      <td>2</td>\n",
       "      <td>(20.0, 30.0)</td>\n",
       "      <td>2</td>\n",
       "      <td>RGB</td>\n",
       "      <td>0</td>\n",
       "      <td>Other</td>\n",
       "    </tr>\n",
       "    <tr>\n",
       "      <th>3</th>\n",
       "      <td>data/Fall_Simulation_Data/videos/ADL17_Cam1.avi</td>\n",
       "      <td>2</td>\n",
       "      <td>(30.0, 40.0)</td>\n",
       "      <td>3</td>\n",
       "      <td>RGB</td>\n",
       "      <td>0</td>\n",
       "      <td>Other</td>\n",
       "    </tr>\n",
       "    <tr>\n",
       "      <th>4</th>\n",
       "      <td>data/Fall_Simulation_Data/videos/ADL17_Cam1.avi</td>\n",
       "      <td>2</td>\n",
       "      <td>(40.0, 50.0)</td>\n",
       "      <td>4</td>\n",
       "      <td>RGB</td>\n",
       "      <td>0</td>\n",
       "      <td>Other</td>\n",
       "    </tr>\n",
       "  </tbody>\n",
       "</table>\n",
       "</div>"
      ],
      "text/plain": [
       "                                          filename  label      interval  \\\n",
       "0  data/Fall_Simulation_Data/videos/ADL17_Cam1.avi      2   (0.0, 10.0)   \n",
       "1  data/Fall_Simulation_Data/videos/ADL17_Cam1.avi      2  (10.0, 20.0)   \n",
       "2  data/Fall_Simulation_Data/videos/ADL17_Cam1.avi      2  (20.0, 30.0)   \n",
       "3  data/Fall_Simulation_Data/videos/ADL17_Cam1.avi      2  (30.0, 40.0)   \n",
       "4  data/Fall_Simulation_Data/videos/ADL17_Cam1.avi      2  (40.0, 50.0)   \n",
       "\n",
       "   sample_idx modality  start_index label_name  \n",
       "0           0      RGB            0      Other  \n",
       "1           1      RGB            0      Other  \n",
       "2           2      RGB            0      Other  \n",
       "3           3      RGB            0      Other  \n",
       "4           4      RGB            0      Other  "
      ]
     },
     "execution_count": 4,
     "metadata": {},
     "output_type": "execute_result"
    }
   ],
   "source": [
    "ANN_FILE = \"data/Fall_Simulation_Data/annotations.csv\"\n",
    "\n",
    "uniform_sampling = UniformSampling(clip_len=10, stride=0, overlap=False)\n",
    "gaussian_sampling = GaussianSampling(\n",
    "    clip_len=10, n_samples_per_sec=None, fallback_sampler=None, std=None\n",
    ")\n",
    "label_strategy = PriorityLabel(\n",
    "    label_description=HQFD_LABEL_DESCRIPTION,\n",
    "    threshold=0.0,\n",
    "    absolute_threshold=False,\n",
    "    priority=[0, 1, 2],\n",
    ")\n",
    "\n",
    "hqfd = HighQualityFallDataset(\n",
    "    ann_file=ANN_FILE,\n",
    "    sampling_strategy=gaussian_sampling,\n",
    "    label_strategy=label_strategy,\n",
    "    pipeline=[],\n",
    "    num_classes=3,\n",
    "    test_mode=True,\n",
    ")\n",
    "\n",
    "df_hqfd = pd.DataFrame(list(hqfd))\n",
    "class_names = [\"Fall\", \"Lying\", \"Other\"]\n",
    "df_hqfd[\"label_name\"] = df_hqfd[\"label\"].apply(lambda x: class_names[x])\n",
    "df_hqfd.head()"
   ]
  },
  {
   "cell_type": "code",
   "execution_count": 5,
   "metadata": {},
   "outputs": [
    {
     "data": {
      "text/plain": [
       "'---- Label Distribution ----'"
      ]
     },
     "metadata": {},
     "output_type": "display_data"
    },
    {
     "data": {
      "text/plain": [
       "label_name\n",
       "Fall     0.118824\n",
       "Lying    0.080790\n",
       "Other    0.800386\n",
       "Name: count, dtype: float64"
      ]
     },
     "metadata": {},
     "output_type": "display_data"
    },
    {
     "data": {
      "text/plain": [
       "'---- Label Counts ----'"
      ]
     },
     "metadata": {},
     "output_type": "display_data"
    },
    {
     "data": {
      "text/plain": [
       "label_name\n",
       "Fall      1787\n",
       "Lying     1215\n",
       "Other    12037\n",
       "Name: count, dtype: int64"
      ]
     },
     "metadata": {},
     "output_type": "display_data"
    },
    {
     "data": {
      "image/png": "[encoded data removed]",
      "text/plain": [
       "<Figure size 640x480 with 1 Axes>"
      ]
     },
     "metadata": {},
     "output_type": "display_data"
    }
   ],
   "source": [
    "display(\"---- Label Distribution ----\")\n",
    "display(df_hqfd[\"label_name\"].value_counts().sort_index() / len(df_hqfd))\n",
    "\n",
    "\n",
    "display(\"---- Label Counts ----\")\n",
    "display(df_hqfd[\"label_name\"].value_counts().sort_index())\n",
    "df_hqfd[\"label_name\"].value_counts().sort_index().plot(kind=\"bar\")\n",
    "plt.show()"
   ]
  }
 ],
 "metadata": {
  "kernelspec": {
   "display_name": "human-fall-detection",
   "language": "python",
   "name": "python3"
  },
  "language_info": {
   "codemirror_mode": {
    "name": "ipython",
    "version": 3
   },
   "file_extension": ".py",
   "mimetype": "text/x-python",
   "name": "python",
   "nbconvert_exporter": "python",
   "pygments_lexer": "ipython3",
   "version": "3.10.13"
  }
 },
 "nbformat": 4,
 "nbformat_minor": 2
}
